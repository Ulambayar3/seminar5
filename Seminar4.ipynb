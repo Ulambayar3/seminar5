{
 "cells": [
  {
   "cell_type": "code",
   "execution_count": 6,
   "id": "c0acbe84",
   "metadata": {},
   "outputs": [
    {
     "name": "stdout",
     "output_type": "stream",
     "text": [
      "[ 50  51  52  53  54  55  56  57  58  59  60  61  62  63  64  65  66  67\n",
      "  68  69  70  71  72  73  74  75  76  77  78  79  80  81  82  83  84  85\n",
      "  86  87  88  89  90  91  92  93  94  95  96  97  98  99 100]\n"
     ]
    }
   ],
   "source": [
    "import numpy as np\n",
    "массив = np.arange(50, 101)\n",
    "print(массив)"
   ]
  },
  {
   "cell_type": "code",
   "execution_count": 7,
   "id": "2e506213",
   "metadata": {},
   "outputs": [
    {
     "name": "stdout",
     "output_type": "stream",
     "text": [
      "[1. 1. 1. 1. 1. 1. 1. 1. 1. 1. 0. 0. 0. 0. 0. 0. 0. 0. 0. 0. 6. 6. 6. 6.\n",
      " 6. 6. 6. 6. 6. 6.]\n"
     ]
    }
   ],
   "source": [
    "import numpy as np\n",
    "\n",
    "ones = np.ones(10)\n",
    "zeros = np.zeros(10)\n",
    "sixes = np.full(10, 6)\n",
    "\n",
    "массив = np.concatenate((ones, zeros, sixes))\n",
    "\n",
    "print(массив)"
   ]
  },
  {
   "cell_type": "code",
   "execution_count": 8,
   "id": "4c442322",
   "metadata": {},
   "outputs": [
    {
     "name": "stdout",
     "output_type": "stream",
     "text": [
      "[[20. 21. 22. 23.]\n",
      " [24. 25. 26. 27.]\n",
      " [28. 29. 30. 31.]]\n"
     ]
    }
   ],
   "source": [
    "import numpy as np\n",
    "\n",
    "start_value = 20\n",
    "end_value = 32\n",
    "num_rows = 3\n",
    "num_cols = 4\n",
    "\n",
    "массив = np.arange(start_value, end_value, (end_value - start_value) / (num_rows * num_cols)).reshape(num_rows, num_cols)\n",
    "\n",
    "print(массив)"
   ]
  },
  {
   "cell_type": "code",
   "execution_count": 9,
   "id": "a0354284",
   "metadata": {},
   "outputs": [
    {
     "name": "stdout",
     "output_type": "stream",
     "text": [
      "[[1. 0. 0.]\n",
      " [0. 1. 0.]\n",
      " [0. 0. 1.]]\n"
     ]
    }
   ],
   "source": [
    "import numpy as np\n",
    "\n",
    "массив = np.identity(3)\n",
    "\n",
    "print(массив)"
   ]
  },
  {
   "cell_type": "code",
   "execution_count": 10,
   "id": "0fd3d06a",
   "metadata": {},
   "outputs": [
    {
     "name": "stdout",
     "output_type": "stream",
     "text": [
      "[[1. 0. 0. 0. 0.]\n",
      " [0. 2. 0. 0. 0.]\n",
      " [0. 0. 3. 0. 0.]\n",
      " [0. 0. 0. 4. 0.]\n",
      " [0. 0. 0. 0. 5.]]\n"
     ]
    }
   ],
   "source": [
    "import numpy as np\n",
    "\n",
    "массив = np.zeros((5, 5))\n",
    "\n",
    "np.fill_diagonal(массив, np.arange(1, 6))\n",
    "\n",
    "print(массив)"
   ]
  },
  {
   "cell_type": "code",
   "execution_count": 11,
   "id": "439314c8",
   "metadata": {},
   "outputs": [
    {
     "name": "stdout",
     "output_type": "stream",
     "text": [
      "Нийт элементүүдийн нийлбэр: 45\n",
      "Нийт баганын нийлбэр: [12, 15, 18]\n",
      "Нийт мөрийн нийлбэр: [6, 15, 24]\n"
     ]
    }
   ],
   "source": [
    "matrix = [\n",
    "    [1, 2, 3],\n",
    "    [4, 5, 6],\n",
    "    [7, 8, 9]\n",
    "]\n",
    "\n",
    "total_sum = 0\n",
    "column_sums = [0] * len(matrix[0])\n",
    "row_sums = [0] * len(matrix)\n",
    "\n",
    "for i in range(len(matrix)):\n",
    "    for j in range(len(matrix[i])):\n",
    "        total_sum += matrix[i][j]\n",
    "        column_sums[j] += matrix[i][j]\n",
    "        row_sums[i] += matrix[i][j]\n",
    "\n",
    "print(\"Нийт элементүүдийн нийлбэр:\", total_sum)\n",
    "print(\"Нийт баганын нийлбэр:\", column_sums)\n",
    "print(\"Нийт мөрийн нийлбэр:\", row_sums)\n"
   ]
  },
  {
   "cell_type": "code",
   "execution_count": 16,
   "id": "9194f355",
   "metadata": {},
   "outputs": [
    {
     "name": "stdout",
     "output_type": "stream",
     "text": [
      "Цалин:\n",
      "[[34526148 30513678 29326744 35366456 36605910 60302591 60302591 60302591\n",
      "  32498507 32498507]\n",
      " [21574904 31122902 29904455 40208730 41616246 74325228 74577321 74577321\n",
      "  66846489 66846489]\n",
      " [13171825 11585744 17772511 30062013 45481662 45481662 45481662 59199687\n",
      "  59199687 59199687]\n",
      " [ 4936809  7804359  7433747 15031006 16596080 16753638 24158850 24158850\n",
      "  24158850 21879515]\n",
      " [10419817 14348256 13791552 16627591 17215807 17373365 19032973 19043476\n",
      "  25209235 25209235]\n",
      " [  315519  1104318  2839675  6310390  6310390  7572468  7572468  7572468\n",
      "   7572468 10096624]\n",
      " [  315519  3155195  3155195  6310390  6310390 12620780 12620780 12620780\n",
      "  12620780 12620780]\n",
      " [ 8455598  8035444  7730832 14894456 15409145 19579173 22982419 22982419\n",
      "  22982419 22982419]\n",
      " [ 4936809  4338089  9465585  9465585 11043182 22086364 22086364 25241559\n",
      "  25241559 25241559]\n",
      " [ 1893117  1827670  5272932  6512386  7572468 12620780 12620780 12620780\n",
      "  12620780 22086364]]\n",
      "\n",
      "Тоглолт:\n",
      "[[30 35 36 29 27 31 33 33 31 26]\n",
      " [31 38 33 34 36 34 33 35 26 32]\n",
      " [26 33 34 30 20 17 15 18 22 20]\n",
      " [33 31 32 33 30 33 31 29 34 34]\n",
      " [35 29 27 29 32 36 37 34 32 24]\n",
      " [19 30 37 36 36 27 33 27 28 30]\n",
      " [10 34 38 30 37 28 29 35 37 38]\n",
      " [34 16 32 25 26 34 31 35 28 33]\n",
      " [16 34 27 36 37 19 35 25 30 32]\n",
      " [28 19 34 31 36 38 34 37 35 38]]\n",
      "\n",
      "Цалин мөр:\n",
      "[100546065 113835655 126693228 180789003 204161280 288716049 301436208\n",
      " 318319931 288950774 298661179]\n",
      "\n",
      "Цалин багана:\n",
      "[412243723 521600085 386636140 162911704 178271307  57266788  82350589\n",
      " 166034324 159146655  95648057]\n",
      "\n",
      "Тоглолт мөр:\n",
      "[262 299 330 313 317 297 311 308 303 307]\n",
      "\n",
      "Тоглолт багана:\n",
      "[311 332 235 320 315 303 316 294 291 330]\n"
     ]
    }
   ],
   "source": [
    "import numpy as np\n",
    "\n",
    "#Salaries\n",
    "ChristianoRonaldo_Salary = [34526148, 30513678, 29326744, 35366456, 36605910, 60302591, 60302591, 60302591, 32498507, 32498507]\n",
    "LionelMessi_Salary = [21574904, 31122902, 29904455, 40208730, 41616246, 74325228, 74577321, 74577321, 66846489, 66846489]\n",
    "Neymar_Salary = [13171825, 11585744, 17772511, 30062013, 45481662, 45481662, 45481662, 59199687, 59199687, 59199687]\n",
    "RobertLewandowski_Salary = [4936809, 7804359, 7433747, 15031006, 16596080, 16753638, 24158850, 24158850, 24158850, 21879515]\n",
    "KarimBenzema_Salary = [10419817, 14348256, 13791552, 16627591, 17215807, 17373365, 19032973, 19043476, 25209235, 25209235]\n",
    "RiyadMahrez_Salary = [315519, 1104318, 2839675, 6310390, 6310390, 7572468, 7572468, 7572468, 7572468, 10096624]\n",
    "HarryKane_Salary = [315519, 3155195, 3155195, 6310390, 6310390, 12620780, 12620780, 12620780, 12620780, 12620780]\n",
    "LukaModric_Salary = [8455598, 8035444, 7730832, 14894456, 15409145, 19579173, 22982419, 22982419, 22982419, 22982419]\n",
    "KevinDeBruyne_Salary = [4936809, 4338089, 9465585, 9465585, 11043182, 22086364, 22086364, 25241559, 25241559, 25241559]\n",
    "MohamedSalah_Salary = [1893117, 1827670, 5272932, 6512386, 7572468, 12620780, 12620780, 12620780, 12620780, 22086364]\n",
    "\n",
    "Salary = np.array([ChristianoRonaldo_Salary, LionelMessi_Salary, Neymar_Salary, RobertLewandowski_Salary, KarimBenzema_Salary, RiyadMahrez_Salary, HarryKane_Salary, LukaModric_Salary, KevinDeBruyne_Salary, MohamedSalah_Salary])\n",
    "print(\"Цалин:\")\n",
    "print(Salary)\n",
    "\n",
    "#Games \n",
    "ChristianoRonaldo_Games = [30, 35, 36, 29, 27, 31, 33, 33, 31, 26]\n",
    "LionelMessi_Games = [31, 38, 33, 34, 36, 34, 33, 35, 26, 32]\n",
    "Neymar_Games = [26, 33, 34, 30, 20, 17, 15, 18, 22, 20]\n",
    "RobertLewandowski_Games = [33, 31, 32, 33, 30, 33, 31, 29, 34, 34]\n",
    "KarimBenzema_Games = [35, 29, 27, 29, 32, 36, 37, 34, 32, 24]\n",
    "RiyadMahrez_Games = [19, 30, 37, 36, 36, 27, 33, 27, 28, 30]\n",
    "HarryKane_Games = [10, 34, 38, 30, 37, 28, 29, 35, 37, 38]\n",
    "LukaModric_Games = [34, 16, 32, 25, 26, 34, 31, 35, 28, 33]\n",
    "KevinDeBruyne_Games = [16, 34, 27, 36, 37, 19, 35, 25, 30, 32]\n",
    "MohamedSalah_Games = [28, 19, 34, 31, 36, 38, 34, 37, 35, 38]\n",
    "\n",
    "Games = np.array([ChristianoRonaldo_Games, LionelMessi_Games, Neymar_Games, RobertLewandowski_Games, KarimBenzema_Games, RiyadMahrez_Games, HarryKane_Games, LukaModric_Games, KevinDeBruyne_Games, MohamedSalah_Games])\n",
    "print(\"\\nТоглолт:\")\n",
    "print(Games)\n",
    "\n",
    "salary_column_sum = np.sum(Salary, axis=0)\n",
    "salary_row_sum = np.sum(Salary, axis=1)\n",
    "\n",
    "games_column_sum = np.sum(Games, axis=0)\n",
    "games_row_sum = np.sum(Games, axis=1)\n",
    "\n",
    "print(\"\\nЦалин мөр:\")\n",
    "print(salary_column_sum)\n",
    "print(\"\\nЦалин багана:\")\n",
    "print(salary_row_sum)\n",
    "\n",
    "print(\"\\nТоглолт мөр:\")\n",
    "print(games_column_sum)\n",
    "print(\"\\nТоглолт багана:\")\n",
    "print(games_row_sum)"
   ]
  },
  {
   "cell_type": "code",
   "execution_count": null,
   "id": "b1d40e87",
   "metadata": {},
   "outputs": [],
   "source": []
  }
 ],
 "metadata": {
  "kernelspec": {
   "display_name": "Python 3 (ipykernel)",
   "language": "python",
   "name": "python3"
  },
  "language_info": {
   "codemirror_mode": {
    "name": "ipython",
    "version": 3
   },
   "file_extension": ".py",
   "mimetype": "text/x-python",
   "name": "python",
   "nbconvert_exporter": "python",
   "pygments_lexer": "ipython3",
   "version": "3.9.13"
  }
 },
 "nbformat": 4,
 "nbformat_minor": 5
}
