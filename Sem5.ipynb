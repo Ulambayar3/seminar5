{
 "cells": [
  {
   "cell_type": "code",
   "execution_count": 3,
   "id": "dcc3aa41",
   "metadata": {},
   "outputs": [
    {
     "name": "stdout",
     "output_type": "stream",
     "text": [
      "Тоо оруулна уу: 1\n",
      "*\n"
     ]
    }
   ],
   "source": [
    "def print_stars(n):\n",
    "    for i in range(1, n + 1):\n",
    "        print('*' * i)\n",
    "\n",
    "n = int(input(\"Тоо оруулна уу: \"))\n",
    "\n",
    "print_stars(n)"
   ]
  },
  {
   "cell_type": "code",
   "execution_count": 14,
   "id": "73b1da22",
   "metadata": {},
   "outputs": [
    {
     "name": "stdout",
     "output_type": "stream",
     "text": [
      "(Oyun, Bat)\n"
     ]
    }
   ],
   "source": [
    "def find_max_min_key(dictionary):\n",
    "    if not dictionary:\n",
    "        return None, None\n",
    "\n",
    "    max_key = max(dictionary, key=lambda k: dictionary[k])\n",
    "    min_key = min(dictionary, key=lambda k: dictionary[k])\n",
    "    \n",
    "    return max_key, min_key\n",
    "\n",
    "students = {\n",
    "  'Bat': 18,\n",
    "  'Oyun': 22,\n",
    "  'Dulam': 21,\n",
    "  'Suren': 20\n",
    "}\n",
    "\n",
    "max_key, min_key = find_max_min_key(students)\n",
    "print(f\"({max_key}, {min_key})\")"
   ]
  },
  {
   "cell_type": "code",
   "execution_count": 15,
   "id": "48c29d67",
   "metadata": {},
   "outputs": [
    {
     "name": "stdout",
     "output_type": "stream",
     "text": [
      "3 эсвэл 7 –д хуваагдах тоонуудын нийлбэр: 214216\n"
     ]
    }
   ],
   "source": [
    "import numpy as np\n",
    "\n",
    "a = np.arange(1, 1000)\n",
    "\n",
    "by_3_or_7 = a[(a % 3 == 0) | (a % 7 == 0)]\n",
    "\n",
    "sum_by_3_or_7 = np.sum(by_3_or_7)\n",
    "\n",
    "print(\"3 эсвэл 7 –д хуваагдах тоонуудын нийлбэр:\", sum_by_3_or_7)\n"
   ]
  },
  {
   "cell_type": "code",
   "execution_count": null,
   "id": "fa3fdeb3",
   "metadata": {},
   "outputs": [],
   "source": []
  }
 ],
 "metadata": {
  "kernelspec": {
   "display_name": "Python 3 (ipykernel)",
   "language": "python",
   "name": "python3"
  },
  "language_info": {
   "codemirror_mode": {
    "name": "ipython",
    "version": 3
   },
   "file_extension": ".py",
   "mimetype": "text/x-python",
   "name": "python",
   "nbconvert_exporter": "python",
   "pygments_lexer": "ipython3",
   "version": "3.9.13"
  }
 },
 "nbformat": 4,
 "nbformat_minor": 5
}
